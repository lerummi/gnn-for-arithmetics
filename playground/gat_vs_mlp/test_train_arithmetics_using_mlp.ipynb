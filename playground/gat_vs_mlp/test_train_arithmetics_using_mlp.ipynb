{
 "cells": [
  {
   "cell_type": "code",
   "execution_count": null,
   "metadata": {},
   "outputs": [],
   "source": [
    "import torch\n",
    "import numpy as np\n",
    "from tqdm.notebook import tqdm\n",
    "import torch.nn.functional as F\n",
    "import matplotlib.pyplot as plt\n",
    "\n",
    "from arigin.graph.elements import Result, Node\n",
    "from arigin.expressions import generate\n",
    "from arigin.graph.generation import graph_from_expression\n",
    "from arigin.features import node_features, edge_features"
   ]
  },
  {
   "cell_type": "code",
   "execution_count": null,
   "metadata": {},
   "outputs": [],
   "source": [
    "def func_to_approx(x, y):\n",
    "    return np.sin(4 * np.pi * (x * y))"
   ]
  },
  {
   "cell_type": "code",
   "execution_count": null,
   "metadata": {},
   "outputs": [],
   "source": [
    "x = np.random.random(size=(2, 1000))\n",
    "y = func_to_approx(*x)[:, np.newaxis]\n",
    "\n",
    "x = torch.tensor(x.T, dtype=torch.float)\n",
    "y = torch.tensor(y, dtype=torch.float)"
   ]
  },
  {
   "cell_type": "code",
   "execution_count": null,
   "metadata": {},
   "outputs": [],
   "source": [
    "class MLP(torch.nn.Module):\n",
    "    def __init__(self):\n",
    "        super().__init__()\n",
    "        self.lin1 = torch.nn.Linear(2, 4)\n",
    "        self.lin2 = torch.nn.Linear(4, 4)\n",
    "        self.lin3 = torch.nn.Linear(4, 4)\n",
    "        self.lin4 = torch.nn.Linear(4, 1)\n",
    "\n",
    "    def forward(self, x):\n",
    "        x = self.lin1(x)\n",
    "        x = F.relu(x)\n",
    "        x = self.lin2(x)\n",
    "        x = F.relu(x)\n",
    "        x = self.lin3(x)\n",
    "        x = F.relu(x)\n",
    "        x = self.lin4(x)\n",
    "        return x\n",
    "    \n",
    "\n",
    "model = MLP()\n",
    "sum(p.numel() for p in model.parameters() if p.requires_grad)"
   ]
  },
  {
   "cell_type": "code",
   "execution_count": null,
   "metadata": {},
   "outputs": [],
   "source": [
    "device = torch.device(\"mps\")\n",
    "\n",
    "model = model.to(device)\n",
    "x = x.to(device)\n",
    "y = y.to(device)"
   ]
  },
  {
   "cell_type": "code",
   "execution_count": null,
   "metadata": {},
   "outputs": [],
   "source": [
    "%%time\n",
    "\n",
    "optimizer = torch.optim.Adam(model.parameters(), lr=0.0005, weight_decay=1e-4)\n",
    "\n",
    "model.train()\n",
    "for epoch in tqdm(range(10000), total=10000):\n",
    "    optimizer.zero_grad()\n",
    "    out = model(x=x)\n",
    "    loss = F.l1_loss(out, y)\n",
    "    if epoch % 500 == 0:\n",
    "        print(epoch, loss)\n",
    "    loss.backward()\n",
    "    optimizer.step()"
   ]
  },
  {
   "cell_type": "code",
   "execution_count": null,
   "metadata": {},
   "outputs": [],
   "source": [
    "xtest = np.linspace(0, 1, 1000)[np.newaxis, :]\n",
    "ytest = func_to_approx(xtest, xtest)\n",
    "\n",
    "ypred = model(x=torch.tensor(np.vstack((xtest, xtest)), dtype=torch.float, device=device).T).cpu().detach().numpy()\n",
    "plt.plot(xtest.flatten(), ytest.flatten(), \"-\", lw=0.5, label=\"test\")\n",
    "plt.plot(xtest.flatten(), ypred.flatten(), \"-\", lw=0.5, label=\"pred\")\n",
    "plt.legend()"
   ]
  },
  {
   "cell_type": "code",
   "execution_count": null,
   "metadata": {},
   "outputs": [],
   "source": [
    "graph_entities = {\"nodes\": [], \"relationships\": []}\n",
    "data = []\n",
    "max_n_nodes = 0\n",
    "for _ in tqdm(range(10000), total=10000):\n",
    "    expr = generate(2, 5)\n",
    "    single_graph_entities = graph_from_expression(expr)\n",
    "    data.append(\n",
    "        {\n",
    "            \"nodes\": single_graph_entities[\"nodes\"],\n",
    "            \"relationships\": single_graph_entities[\"relationships\"]\n",
    "        } \n",
    "    )\n",
    "    max_n_nodes = max(max_n_nodes, len(single_graph_entities[\"nodes\"]))"
   ]
  },
  {
   "cell_type": "code",
   "execution_count": null,
   "metadata": {},
   "outputs": [],
   "source": [
    "n0 = Node(expression=\"\")\n",
    "\n",
    "nodes = []\n",
    "for single in data:\n",
    "    result = single[\"nodes\"][-1]\n",
    "    single[\"nodes\"].remove(result)\n",
    "    while len(single[\"nodes\"]) < max_n_nodes - 1:\n",
    "        single[\"nodes\"].append(n0)\n",
    "    single[\"nodes\"].append(result)\n",
    "    nodes += single[\"nodes\"]\n",
    "\n",
    "# Get node features\n",
    "X = node_features.fit_transform(nodes)\n",
    "X = X.reshape(len(data), -1)\n",
    "X = torch.tensor(X, dtype=torch.float)"
   ]
  },
  {
   "cell_type": "code",
   "execution_count": null,
   "metadata": {},
   "outputs": [],
   "source": [
    "y = torch.tensor(\n",
    "    [[node.value if node.value is not None else 0 for node in single[\"nodes\"]] for single in data],\n",
    "    dtype=torch.float\n",
    ").reshape(len(data), -1)\n",
    "y = torch.tanh(y)\n",
    "train_mask = ~torch.isnan(y)\n",
    "n_train = sum(train_mask)\n",
    "n_train"
   ]
  },
  {
   "cell_type": "code",
   "execution_count": null,
   "metadata": {},
   "outputs": [],
   "source": [
    "class MLP(torch.nn.Sequential):\n",
    "    def __init__(self):\n",
    "        super().__init__(\n",
    "           torch.nn.Linear(X.shape[1], 512),\n",
    "           torch.nn.ReLU(),\n",
    "           torch.nn.Linear(512, 128),\n",
    "           torch.nn.ReLU(),\n",
    "           torch.nn.Linear(128, 64),\n",
    "           torch.nn.ReLU(),\n",
    "           torch.nn.Linear(64, 32),\n",
    "           torch.nn.ReLU(),\n",
    "           torch.nn.Linear(32, 32),\n",
    "           torch.nn.ReLU(),\n",
    "           torch.nn.Linear(32, 16),\n",
    "           torch.nn.ReLU(),\n",
    "           torch.nn.Linear(16, 16),\n",
    "           torch.nn.ReLU(),\n",
    "           torch.nn.Linear(16, 8),\n",
    "           torch.nn.ReLU(),\n",
    "           torch.nn.Linear(8, y.shape[1]),\n",
    "        )\n",
    "\n",
    "model = MLP()\n",
    "sum(p.numel() for p in model.parameters() if p.requires_grad)"
   ]
  },
  {
   "cell_type": "code",
   "execution_count": null,
   "metadata": {},
   "outputs": [],
   "source": [
    "device = torch.device(\"mps\")\n",
    "\n",
    "model = model.to(device)\n",
    "X = X.to(device)\n",
    "y = y.to(device)"
   ]
  },
  {
   "cell_type": "code",
   "execution_count": null,
   "metadata": {},
   "outputs": [],
   "source": [
    "optimizer = torch.optim.Adam(model.parameters(), lr=0.0001, weight_decay=1e-4)\n",
    "\n",
    "model.train()\n",
    "for epoch in tqdm(range(20000), total=20000):\n",
    "    optimizer.zero_grad()\n",
    "    out = model(X)\n",
    "    loss = F.l1_loss(out, y)\n",
    "    if epoch % 1000 == 0:\n",
    "        print(\n",
    "            \"Epoch {:05d} | Loss {:.6f} |\".format(\n",
    "                epoch, loss\n",
    "            )\n",
    "        )\n",
    "    loss.backward()\n",
    "    optimizer.step()"
   ]
  },
  {
   "cell_type": "code",
   "execution_count": null,
   "metadata": {},
   "outputs": [],
   "source": [
    "expr = \"0.1 * 0.35\"\n",
    "ent = graph_from_expression(expr)\n",
    "\n",
    "nodes = ent[\"nodes\"]\n",
    "result = nodes[-1]\n",
    "nodes.remove(result)\n",
    "while len(nodes) < max_n_nodes - 1:\n",
    "    nodes.append(n0)\n",
    "nodes.append(result)\n",
    "\n",
    "# Get node features\n",
    "Xtest = node_features.transform(nodes)\n",
    "Xtest = Xtest.reshape(1, -1)\n",
    "Xtest = torch.tensor(Xtest, dtype=torch.float)\n",
    "\n",
    "[node.value for node in nodes]"
   ]
  },
  {
   "cell_type": "code",
   "execution_count": null,
   "metadata": {},
   "outputs": [],
   "source": [
    "ypred = torch.atanh(model.to(\"cpu\")(Xtest)).detach().numpy()\n",
    "print(np.round(ypred, 4))"
   ]
  },
  {
   "cell_type": "code",
   "execution_count": null,
   "metadata": {},
   "outputs": [],
   "source": []
  }
 ],
 "metadata": {
  "kernelspec": {
   "display_name": ".venv",
   "language": "python",
   "name": "python3"
  },
  "language_info": {
   "codemirror_mode": {
    "name": "ipython",
    "version": 3
   },
   "file_extension": ".py",
   "mimetype": "text/x-python",
   "name": "python",
   "nbconvert_exporter": "python",
   "pygments_lexer": "ipython3",
   "version": "3.12.5"
  }
 },
 "nbformat": 4,
 "nbformat_minor": 2
}
