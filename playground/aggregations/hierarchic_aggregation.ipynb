{
 "cells": [
  {
   "cell_type": "code",
   "execution_count": 1,
   "metadata": {},
   "outputs": [],
   "source": [
    "import torch\n",
    "import tqdm\n",
    "import numpy as np\n",
    "from tqdm.notebook import tqdm\n",
    "from torch_geometric.data import Data\n",
    "from torch_geometric.nn import Linear, GATv2Conv\n",
    "from torch_geometric.nn import pool\n",
    "import torch.nn.functional as F\n",
    "\n",
    "from arigin.expressions import generate\n",
    "from arigin.graph.generation import (\n",
    "    graph_from_expression, \n",
    "    generate_multiple_graphs\n",
    ")\n",
    "from arigin.features import node_features, edge_features\n",
    "from arigin.preprocessing import GraphEntityToDataSet"
   ]
  },
  {
   "cell_type": "code",
   "execution_count": 2,
   "metadata": {},
   "outputs": [],
   "source": [
    "max_numbers = 4\n",
    "min_numbers = 2"
   ]
  },
  {
   "cell_type": "code",
   "execution_count": null,
   "metadata": {},
   "outputs": [
    {
     "name": "stderr",
     "output_type": "stream",
     "text": [
      "100%|██████████| 1000/1000 [00:00<00:00, 1237.78it/s]\n"
     ]
    }
   ],
   "source": [
    "graph_entities, y = generate_multiple_graphs(\n",
    "    n_graphs=1000, \n",
    "    min_numbers=min_numbers, \n",
    "    max_numbers=max_numbers\n",
    ")\n",
    "\n",
    "dataset_create = GraphEntityToDataSet().fit(graph_entities, y)\n",
    "data = dataset_create.transform(graph_entities, y)"
   ]
  },
  {
   "cell_type": "code",
   "execution_count": 30,
   "metadata": {},
   "outputs": [],
   "source": [
    "class GAT(torch.nn.Module):\n",
    "    def __init__(\n",
    "            self, \n",
    "            in_channels: int,\n",
    "            emb_channels: int,\n",
    "            hidden_channels: int, \n",
    "            out_channels: int, \n",
    "            activation = F.relu,\n",
    "            dropout=0.2):\n",
    "\n",
    "        super().__init__()\n",
    "\n",
    "        self.linear_in = Linear(in_channels, emb_channels)\n",
    "        self.linear_in_2 = Linear(emb_channels, emb_channels)\n",
    "        self.linear_in_3 = Linear(emb_channels, hidden_channels)\n",
    "\n",
    "        self.conv = GATv2Conv(\n",
    "                hidden_channels,\n",
    "                hidden_channels, \n",
    "                heads=1,\n",
    "                fill_value=0,\n",
    "                add_self_loops=True,\n",
    "                dropout=dropout\n",
    "        )\n",
    "\n",
    "        self.pool = pool.SAGPooling(\n",
    "            hidden_channels,\n",
    "            GNN=GATv2Conv,\n",
    "            ratio=0.5,\n",
    "            heads=1,\n",
    "            fill_value=0,\n",
    "            add_self_loops=True\n",
    "        )\n",
    "\n",
    "        self.head = Linear(hidden_channels, hidden_channels)\n",
    "        self.head_2 = Linear(hidden_channels, out_channels)\n",
    "\n",
    "        self.activation = activation\n",
    "\n",
    "    def forward(self, x, edge_index, edge_attr, batch):\n",
    "\n",
    "        x = self.linear_in(x)\n",
    "        x = self.activation(x)\n",
    "        x = self.linear_in_2(x)\n",
    "        x = self.activation(x)\n",
    "        x = self.linear_in_3(x)\n",
    "        x = self.activation(x)\n",
    "\n",
    "        for i in range(3):\n",
    "            x, edge_index, _, batch, _, _ = self.pool(x, edge_index, batch=batch)\n",
    "        \n",
    "            x = self.conv(x, edge_index, edge_attr)\n",
    "            x = self.activation(x)\n",
    "\n",
    "        if x.shape[0] != len(np.unique(batch)):\n",
    "            print(x.shape, len(np.unique(batch)))\n",
    "\n",
    "        x = self.head(x)\n",
    "        x = F.relu(x)\n",
    "        x = self.head_2(x)\n",
    "\n",
    "        return x"
   ]
  },
  {
   "cell_type": "code",
   "execution_count": 31,
   "metadata": {},
   "outputs": [
    {
     "data": {
      "text/plain": [
       "1095974"
      ]
     },
     "execution_count": 31,
     "metadata": {},
     "output_type": "execute_result"
    }
   ],
   "source": [
    "model = GAT(\n",
    "    in_channels=X.shape[1],\n",
    "    emb_channels=1024,\n",
    "    hidden_channels=32,\n",
    "    out_channels=1,\n",
    "    dropout=0.,\n",
    "    activation=F.relu\n",
    ")\n",
    "\n",
    "sum(p.numel() for p in model.parameters() if p.requires_grad)"
   ]
  },
  {
   "cell_type": "code",
   "execution_count": 34,
   "metadata": {},
   "outputs": [
    {
     "data": {
      "application/vnd.jupyter.widget-view+json": {
       "model_id": "3a49ec33721b4c759faedf6af5e9e39b",
       "version_major": 2,
       "version_minor": 0
      },
      "text/plain": [
       "  0%|          | 0/100 [00:00<?, ?it/s]"
      ]
     },
     "metadata": {},
     "output_type": "display_data"
    },
    {
     "name": "stdout",
     "output_type": "stream",
     "text": [
      "Epoch 00000 | Loss 1.526859 |\n",
      "Epoch 00010 | Loss 1.526860 |\n",
      "Epoch 00020 | Loss 1.526861 |\n",
      "Epoch 00030 | Loss 1.526860 |\n",
      "Epoch 00040 | Loss 1.526859 |\n",
      "Epoch 00050 | Loss 1.526859 |\n",
      "Epoch 00060 | Loss 1.526861 |\n",
      "Epoch 00070 | Loss 1.526864 |\n",
      "Epoch 00080 | Loss 1.526861 |\n",
      "Epoch 00090 | Loss 1.526861 |\n"
     ]
    }
   ],
   "source": [
    "optimizer = torch.optim.Adam(model.parameters(), lr=0.001, weight_decay=1e-3)\n",
    "optimizer.zero_grad()\n",
    "\n",
    "model.train()\n",
    "for epoch in tqdm(range(100), total=100):\n",
    "    total_loss = 0\n",
    "    out = model(\n",
    "        x=data.x, \n",
    "        edge_index=data.edge_index, \n",
    "        edge_attr=None, \n",
    "        batch=data.batch\n",
    "    )\n",
    "    loss = F.l1_loss(out, data.y)\n",
    "    loss.backward()\n",
    "    optimizer.step()\n",
    "    optimizer.zero_grad()\n",
    "    total_loss += loss.item()\n",
    "    if epoch % 10 == 0:\n",
    "        print(\n",
    "            \"Epoch {:05d} | Loss {:.6f} |\".format(\n",
    "                epoch, total_loss\n",
    "            )\n",
    "        )"
   ]
  },
  {
   "cell_type": "code",
   "execution_count": null,
   "metadata": {},
   "outputs": [],
   "source": [
    "model.eval()"
   ]
  },
  {
   "cell_type": "code",
   "execution_count": null,
   "metadata": {},
   "outputs": [],
   "source": [
    "graph_entities = {\"nodes\": [], \"relationships\": []}\n",
    "node_batches = []\n",
    "relationship_batches = []\n",
    "result_batches = []\n",
    "batch_nos = []\n",
    "n_in_batch = 0\n",
    "for i in tqdm(range(10), total=10):\n",
    "    if not n_in_batch:\n",
    "        node_batch = []\n",
    "        relationship_batch = []\n",
    "        result_batch = []\n",
    "        batch_no = []\n",
    "    expr = generate(min_numbers, max_numbers)\n",
    "    single_graph_entities = graph_from_expression(expr)\n",
    "    try:\n",
    "        y = eval(expr)\n",
    "    except ZeroDivisionError:\n",
    "        continue\n",
    "    n_nodes = len(single_graph_entities[\"nodes\"])\n",
    "    graph_entities[\"nodes\"] += single_graph_entities[\"nodes\"]\n",
    "    graph_entities[\"relationships\"] += single_graph_entities[\"relationships\"]\n",
    "\n",
    "    node_batch += single_graph_entities[\"nodes\"]\n",
    "    relationship_batch += single_graph_entities[\"relationships\"]\n",
    "    result_batch.append(y)\n",
    "    batch_no += [i] * n_nodes\n",
    "    n_in_batch += 1\n",
    "    if n_in_batch == 10:\n",
    "        n_in_batch = 0\n",
    "        node_batches.append(node_batch)\n",
    "        relationship_batches.append(relationship_batch)\n",
    "        result_batches.append(result_batch)\n",
    "        batch_nos.append(batch_no)\n",
    "\n",
    "dataset = []\n",
    "for i, (nodes, relationships, y, batch_no) in enumerate(zip(node_batches, relationship_batches, result_batches, batch_nos)):\n",
    "\n",
    "    id_index_mapping = {\n",
    "        node.id: index\n",
    "        for index, node in enumerate(nodes)\n",
    "    }\n",
    "\n",
    "    X = node_features.transform(nodes)\n",
    "    y = np.array(y).reshape(-1, 1)\n",
    "\n",
    "    # Get edge indices\n",
    "    edge_index = [\n",
    "        [\n",
    "            id_index_mapping[relationship.source.id],\n",
    "            id_index_mapping[relationship.target.id]\n",
    "        ]\n",
    "        for relationship in relationships\n",
    "    ]\n",
    "    edge_index = np.array(edge_index)\n",
    "    edge_index = np.vstack((edge_index, edge_index[:, [1, 0]]))\n",
    "\n",
    "    # Get edge features\n",
    "    E = edge_features.fit_transform(relationships)\n",
    "    Ez = np.zeros_like(E)\n",
    "    E = np.vstack(\n",
    "        (\n",
    "            np.hstack((E, Ez)),\n",
    "            np.hstack((Ez, E))\n",
    "        )\n",
    "    )\n",
    "    edge_index = torch.tensor(edge_index.T, dtype=torch.long)\n",
    "    X = torch.tensor(X, dtype=torch.float)\n",
    "    E = torch.tensor(E, dtype=torch.float)\n",
    "    y = torch.tensor(y, dtype=torch.float)\n",
    "    batch_no = torch.tensor(batch_no, dtype=torch.long)\n",
    "\n",
    "    dataset.append(Data(x=X, edge_index=edge_index, y=y, batch=batch_no))"
   ]
  },
  {
   "cell_type": "code",
   "execution_count": 88,
   "metadata": {},
   "outputs": [],
   "source": [
    "data = dataset[0]\n",
    "ypred = model(x=data.x, edge_index=data.edge_index, edge_attr=None, batch=data.batch)"
   ]
  },
  {
   "cell_type": "code",
   "execution_count": null,
   "metadata": {},
   "outputs": [],
   "source": [
    "ypred, y"
   ]
  },
  {
   "cell_type": "code",
   "execution_count": null,
   "metadata": {},
   "outputs": [],
   "source": []
  }
 ],
 "metadata": {
  "kernelspec": {
   "display_name": ".venv",
   "language": "python",
   "name": "python3"
  },
  "language_info": {
   "codemirror_mode": {
    "name": "ipython",
    "version": 3
   },
   "file_extension": ".py",
   "mimetype": "text/x-python",
   "name": "python",
   "nbconvert_exporter": "python",
   "pygments_lexer": "ipython3",
   "version": "3.12.5"
  }
 },
 "nbformat": 4,
 "nbformat_minor": 2
}
