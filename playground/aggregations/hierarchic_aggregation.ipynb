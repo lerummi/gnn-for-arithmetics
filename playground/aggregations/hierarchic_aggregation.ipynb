{
 "cells": [
  {
   "cell_type": "code",
   "execution_count": 1,
   "metadata": {},
   "outputs": [],
   "source": [
    "import torch\n",
    "import tqdm\n",
    "import numpy as np\n",
    "from tqdm.notebook import tqdm\n",
    "import torch.nn.functional as F\n",
    "from sklearn.preprocessing import FunctionTransformer\n",
    "from arigin.expressions import generate\n",
    "from arigin.graph.generation import (\n",
    "    graph_from_expression, \n",
    "    generate_multiple_graphs\n",
    ")\n",
    "from arigin.graph.models import MathModel\n",
    "from arigin.preprocessing import GraphEntityToDataSet"
   ]
  },
  {
   "cell_type": "code",
   "execution_count": 2,
   "metadata": {},
   "outputs": [],
   "source": [
    "max_numbers = 4\n",
    "min_numbers = 2"
   ]
  },
  {
   "cell_type": "code",
   "execution_count": null,
   "metadata": {},
   "outputs": [],
   "source": [
    "graph_entities, y = generate_multiple_graphs(\n",
    "    n_graphs=5000, \n",
    "    min_numbers=min_numbers, \n",
    "    max_numbers=max_numbers\n",
    ")\n",
    "\n",
    "target_transformer = FunctionTransformer(\n",
    "    func=lambda x: np.tanh(x), \n",
    "    inverse_func=lambda x: np.arctanh(x), \n",
    "    validate=False)\n",
    "\n",
    "dataset_create = GraphEntityToDataSet(target_transformer=target_transformer).fit(graph_entities, y)\n",
    "data = dataset_create.transform(graph_entities, y)"
   ]
  },
  {
   "cell_type": "code",
   "execution_count": null,
   "metadata": {},
   "outputs": [],
   "source": [
    "model = MathModel(\n",
    "    in_channels=data.x.shape[1],\n",
    "    emb_channels=24,\n",
    "    hidden_channels=6,\n",
    "    heads=8,\n",
    "    edge_dim=data.edge_attr.shape[1],\n",
    "    out_channels=data.y.shape[1],\n",
    "    dropout=0.,\n",
    "    activation=F.gelu\n",
    ")\n",
    "\n",
    "sum(p.numel() for p in model.parameters() if p.requires_grad)"
   ]
  },
  {
   "cell_type": "code",
   "execution_count": null,
   "metadata": {},
   "outputs": [],
   "source": [
    "optimizer = torch.optim.Adam(model.parameters(), lr=1e-4, weight_decay=1e-4)\n",
    "optimizer.zero_grad()\n",
    "\n",
    "model.train()\n",
    "for epoch in tqdm(range(2000), total=2000):\n",
    "    total_loss = 0\n",
    "    out = model(\n",
    "        x=data.x, \n",
    "        edge_index=data.edge_index, \n",
    "        edge_attr=data.edge_attr,\n",
    "        batch=data.batch\n",
    "    )\n",
    "    loss = F.l1_loss(out, data.y)\n",
    "    loss.backward()\n",
    "    optimizer.step()\n",
    "    optimizer.zero_grad()\n",
    "    total_loss += loss.item()\n",
    "    if epoch % 100 == 0:\n",
    "        print(\n",
    "            \"Epoch {:05d} | Loss {:.6f} |\".format(\n",
    "                epoch, total_loss\n",
    "            )\n",
    "        )"
   ]
  },
  {
   "cell_type": "code",
   "execution_count": null,
   "metadata": {},
   "outputs": [],
   "source": [
    "expression = \"0.5 + 0.5 * 0.2 \"\n",
    "y_true = eval(expression)\n",
    "graph = graph_from_expression(expression)\n",
    "graph[\"batch\"] = torch.tensor([0 for _ in range(len(graph[\"nodes\"]))])\n",
    "\n",
    "datatest = dataset_create.transform(graph, y_true)"
   ]
  },
  {
   "cell_type": "code",
   "execution_count": 44,
   "metadata": {},
   "outputs": [],
   "source": [
    "model.eval()\n",
    "y_pred = model(x=datatest.x, edge_index=datatest.edge_index, edge_attr=datatest.edge_attr, batch=datatest.batch)\n",
    "y_pred = y_pred.detach().numpy()"
   ]
  },
  {
   "cell_type": "code",
   "execution_count": null,
   "metadata": {},
   "outputs": [],
   "source": [
    "y_pred[0][0] - datatest.y"
   ]
  },
  {
   "cell_type": "code",
   "execution_count": null,
   "metadata": {},
   "outputs": [],
   "source": []
  }
 ],
 "metadata": {
  "kernelspec": {
   "display_name": ".venv",
   "language": "python",
   "name": "python3"
  },
  "language_info": {
   "codemirror_mode": {
    "name": "ipython",
    "version": 3
   },
   "file_extension": ".py",
   "mimetype": "text/x-python",
   "name": "python",
   "nbconvert_exporter": "python",
   "pygments_lexer": "ipython3",
   "version": "3.12.5"
  }
 },
 "nbformat": 4,
 "nbformat_minor": 2
}
