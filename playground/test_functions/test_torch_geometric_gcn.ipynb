{
 "cells": [
  {
   "cell_type": "code",
   "execution_count": null,
   "metadata": {},
   "outputs": [],
   "source": [
    "import torch\n",
    "import numpy as np\n",
    "import tqdm\n",
    "import pandas as pd\n",
    "from tqdm.notebook import tqdm\n",
    "from typing import List\n",
    "from sklearn.preprocessing import StandardScaler, PolynomialFeatures\n",
    "from torch_geometric.data import Data\n",
    "from torch_geometric.nn import Linear, GATv2Conv, GatedGraphConv, GCNConv\n",
    "import torch.nn.functional as F\n",
    "\n",
    "from arigin.expressions import generate\n",
    "from arigin.graph.elements import Result\n",
    "from arigin.graph.generation import graph_from_expression\n",
    "from arigin.graph.models import GCN\n",
    "from arigin.features import node_features, node_features, edge_features"
   ]
  },
  {
   "cell_type": "code",
   "execution_count": null,
   "metadata": {},
   "outputs": [],
   "source": [
    "min_numbers = 2\n",
    "max_numbers = 4"
   ]
  },
  {
   "cell_type": "code",
   "execution_count": null,
   "metadata": {},
   "outputs": [],
   "source": [
    "graph_entities = {\"nodes\": [], \"relationships\": []}\n",
    "node_batches = []\n",
    "relationship_batches = []\n",
    "for _ in tqdm(range(5000), total=5000):\n",
    "\n",
    "    expr = generate(min_numbers, max_numbers)\n",
    "    single_graph_entities = graph_from_expression(expr)\n",
    "    graph_entities[\"nodes\"] += single_graph_entities[\"nodes\"]\n",
    "    graph_entities[\"relationships\"] += single_graph_entities[\"relationships\"]\n",
    "\n",
    "    node_batches += single_graph_entities[\"nodes\"]\n",
    "    relationship_batches += single_graph_entities[\"relationships\"]"
   ]
  },
  {
   "cell_type": "code",
   "execution_count": null,
   "metadata": {},
   "outputs": [],
   "source": [
    "# Get node features\n",
    "node_features.fit(graph_entities[\"nodes\"])\n",
    "scaler = StandardScaler(with_mean=False)\n",
    "\n",
    "nodes = graph_entities[\"nodes\"]\n",
    "relationships = graph_entities[\"relationships\"]\n",
    "\n",
    "id_index_mapping = {\n",
    "    node.id: index\n",
    "    for index, node in enumerate(nodes)\n",
    "}\n",
    "\n",
    "X = node_features.transform(nodes)\n",
    "\n",
    "y = X[:, [-1]]\n",
    "is_result = np.array([node.__class__ == Result for node in nodes])\n",
    "X[is_result, -1] = 0\n",
    "X = PolynomialFeatures(2, interaction_only=True).fit_transform(X)\n",
    "# Drop any non-unique features\n",
    "unique = (pd.DataFrame(X).nunique() >= 2)\n",
    "unique = unique[unique].index\n",
    "X = X[:, unique]\n",
    "\n",
    "# Get edge indices\n",
    "edge_index = [\n",
    "    (\n",
    "        id_index_mapping[relationship.source.id],\n",
    "        id_index_mapping[relationship.target.id]\n",
    "    )\n",
    "    for relationship in relationships\n",
    "]\n",
    "edge_index = torch.tensor(edge_index).T\n",
    "E = np.ones(edge_index.shape[1])\n",
    "edge_index = np.hstack((edge_index, edge_index[[1, 0], :]))\n",
    "E = np.hstack((E,  -E))\n",
    "\n",
    "# Get edge features\n",
    "edge_index = torch.tensor(edge_index, dtype=torch.long)\n",
    "X = torch.tensor(X, dtype=torch.float)\n",
    "E = torch.tensor(E, dtype=torch.float)\n",
    "y = torch.tensor(y, dtype=torch.float)\n",
    "\n",
    "dataset = Data(x=X, edge_index=edge_index, edge_attr=E, y=y)"
   ]
  },
  {
   "cell_type": "code",
   "execution_count": null,
   "metadata": {},
   "outputs": [],
   "source": [
    "model = GCN(\n",
    "    in_channels=X.shape[1],\n",
    "    hidden_channels=128,\n",
    "    emb_channels=128,\n",
    "    out_channels=y.shape[1],\n",
    "    dropout_inter_layer=0.,\n",
    "    gat_activation=F.relu\n",
    ")\n",
    "\n",
    "sum(p.numel() for p in model.parameters() if p.requires_grad)"
   ]
  },
  {
   "cell_type": "code",
   "execution_count": null,
   "metadata": {},
   "outputs": [],
   "source": [
    "optimizer = torch.optim.Adam(model.parameters(), lr=0.00002, weight_decay=1e-3)\n",
    "optimizer.zero_grad()\n",
    "model.train()\n",
    "for epoch in tqdm(range(1000), total=1000):\n",
    "    out = model(x=dataset.x, edge_index=dataset.edge_index, edge_weight=E)\n",
    "    loss = F.l1_loss(out, dataset.y)\n",
    "    loss.backward()\n",
    "    optimizer.step()\n",
    "    optimizer.zero_grad()\n",
    "    loss += loss.item()\n",
    "    if epoch % 50 == 0:\n",
    "        print(\"Epoch {:05d} | Loss {:.6f} |\".format(epoch, loss))"
   ]
  },
  {
   "cell_type": "code",
   "execution_count": null,
   "metadata": {},
   "outputs": [],
   "source": [
    "import matplotlib.pyplot as plt\n",
    "l1_error = np.abs((out - y).detach().numpy())\n",
    "plt.hist(l1_error, bins=np.linspace(0, 2, 100), log=True)\n",
    "plt.grid()"
   ]
  },
  {
   "cell_type": "code",
   "execution_count": null,
   "metadata": {},
   "outputs": [],
   "source": [
    "expr = \"0.95 * 0.3\"\n",
    "ent = graph_from_expression(expr)\n",
    "model.eval()\n",
    "\n",
    "nodes = ent[\"nodes\"]\n",
    "relationships = ent[\"relationships\"]\n",
    "\n",
    "id_index_mapping = {\n",
    "    node.id: index\n",
    "    for index, node in enumerate(nodes)\n",
    "}\n",
    "\n",
    "X = node_features.transform(nodes)\n",
    "y = X[:, [-1]]\n",
    "is_result = np.array([node.__class__ == Result for node in nodes])\n",
    "X[is_result, -1:] = 0\n",
    "X = PolynomialFeatures(2, interaction_only=True).fit_transform(X)\n",
    "X = X[:, unique]\n",
    "\n",
    "# Get edge indices\n",
    "edge_index = [\n",
    "    (\n",
    "        id_index_mapping[relationship.source.id],\n",
    "        id_index_mapping[relationship.target.id]\n",
    "    )\n",
    "    for relationship in relationships\n",
    "]\n",
    "edge_index = torch.tensor(edge_index).T\n",
    "E = np.ones(edge_index.shape[1])\n",
    "edge_index = np.hstack((edge_index, edge_index[[1, 0], :]))\n",
    "E = np.hstack((E, -E))\n",
    "\n",
    "# Get edge features\n",
    "edge_index = torch.tensor(edge_index, dtype=torch.long)\n",
    "X = torch.tensor(X, dtype=torch.float)\n",
    "E = torch.tensor(E, dtype=torch.float)\n",
    "y = torch.tensor(y, dtype=torch.float)\n",
    "\n",
    "pred = model(x=X, edge_index=edge_index, edge_weight=E)\n",
    "loss = F.l1_loss(pred, y)\n",
    "\n",
    "pred = pred.detach().numpy()\n",
    "\n",
    "print(np.round(pred, 4))\n",
    "print(np.round(y.detach().numpy(), 4))\n",
    "print(loss.item())"
   ]
  },
  {
   "cell_type": "code",
   "execution_count": null,
   "metadata": {},
   "outputs": [],
   "source": [
    "from sklearn.metrics import pairwise_distances\n",
    "\n",
    "X_ = model.embedding(X)\n",
    "Xa = model.gatconv_1(X_, edge_index)\n",
    "V = model.embedding(X).detach().numpy()\n",
    "pairwise_distances(V, V)"
   ]
  },
  {
   "cell_type": "code",
   "execution_count": null,
   "metadata": {},
   "outputs": [],
   "source": []
  }
 ],
 "metadata": {
  "kernelspec": {
   "display_name": ".venv",
   "language": "python",
   "name": "python3"
  },
  "language_info": {
   "codemirror_mode": {
    "name": "ipython",
    "version": 3
   },
   "file_extension": ".py",
   "mimetype": "text/x-python",
   "name": "python",
   "nbconvert_exporter": "python",
   "pygments_lexer": "ipython3",
   "version": "3.12.5"
  }
 },
 "nbformat": 4,
 "nbformat_minor": 2
}
