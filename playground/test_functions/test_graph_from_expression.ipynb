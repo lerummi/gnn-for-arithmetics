{
 "cells": [
  {
   "cell_type": "markdown",
   "metadata": {},
   "source": [
    "# Test Graph creation from arithmetic expression\n",
    "\n",
    "Note, that for this to function graphviz needs to be installed."
   ]
  },
  {
   "cell_type": "code",
   "execution_count": null,
   "metadata": {},
   "outputs": [],
   "source": [
    "from graphviz import Digraph\n",
    "from pprint import pprint\n",
    "\n",
    "from arigin.graph.generation import graph_from_expression"
   ]
  },
  {
   "cell_type": "code",
   "execution_count": null,
   "metadata": {},
   "outputs": [],
   "source": [
    "import re\n",
    "\n",
    "MATCH_PATTERN = r\"\\w*\\.?\\w*\"\n",
    "\n",
    "re.search(rf\"{MATCH_PATTERN}\\s*[*/]\\s*{MATCH_PATTERN}\", \"abc 232.1 * RESULT123cnk\")"
   ]
  },
  {
   "cell_type": "code",
   "execution_count": null,
   "metadata": {},
   "outputs": [],
   "source": [
    "expr = \"( 0.2 + 0.2 ) * 0.5 / 0.75 + 0.2\"\n",
    "print(eval(expr))"
   ]
  },
  {
   "cell_type": "code",
   "execution_count": null,
   "metadata": {},
   "outputs": [],
   "source": [
    "from arigin.graph.generation import extract_addition_subtraction"
   ]
  },
  {
   "cell_type": "code",
   "execution_count": null,
   "metadata": {},
   "outputs": [],
   "source": [
    "ent = graph_from_expression(expr)"
   ]
  },
  {
   "cell_type": "code",
   "execution_count": null,
   "metadata": {},
   "outputs": [],
   "source": [
    "for r in ent[\"relationships\"]:\n",
    "    print(r.__class__.__name__)\n",
    "    print(r.id)\n",
    "    print(r.source)\n",
    "    print(r.target)\n",
    "    print()"
   ]
  },
  {
   "cell_type": "code",
   "execution_count": null,
   "metadata": {},
   "outputs": [],
   "source": [
    "def rep(model):\n",
    "    return (\n",
    "        model.expression + \"\\n\" + model.id[:4] + \"...\\n =\" + str(model.value)\n",
    "    )\n",
    "\n",
    "# Create Digraph object\n",
    "dot = Digraph()\n",
    "for node in ent[\"nodes\"]:\n",
    "    dot.node(rep(node))\n",
    "\n",
    "for relationship in ent[\"relationships\"]:\n",
    "    dot.edge(rep(relationship.source), rep(relationship.target), label=relationship.__class__.__name__)\n",
    "\n",
    "dot"
   ]
  },
  {
   "cell_type": "code",
   "execution_count": null,
   "metadata": {},
   "outputs": [],
   "source": []
  },
  {
   "cell_type": "code",
   "execution_count": null,
   "metadata": {},
   "outputs": [],
   "source": []
  }
 ],
 "metadata": {
  "kernelspec": {
   "display_name": ".venv",
   "language": "python",
   "name": "python3"
  },
  "language_info": {
   "codemirror_mode": {
    "name": "ipython",
    "version": 3
   },
   "file_extension": ".py",
   "mimetype": "text/x-python",
   "name": "python",
   "nbconvert_exporter": "python",
   "pygments_lexer": "ipython3",
   "version": "3.12.5"
  }
 },
 "nbformat": 4,
 "nbformat_minor": 2
}
